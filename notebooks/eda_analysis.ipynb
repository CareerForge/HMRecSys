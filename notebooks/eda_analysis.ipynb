{
 "cells": [
  {
   "cell_type": "code",
   "execution_count": 1,
   "metadata": {},
   "outputs": [],
   "source": [
    "import pandas as pd\n",
    "import numpy as np"
   ]
  },
  {
   "cell_type": "markdown",
   "metadata": {},
   "source": [
    "## Data Description\n",
    "\n",
    "- images/ - a folder of images corresponding to each article_id; images are placed in subfolders starting with the first three digits of the article_id; note, not all article_id values have a corresponding image.\n",
    "- articles.csv - detailed metadata for each article_id available for purchase\n",
    "- customers.csv - metadata for each customer_id in dataset\n",
    "- transactions_train.csv - the training data, consisting of the purchases each customer for each date, as well as additional information. Duplicate rows correspond to multiple purchases of the same item. Your task is to predict the article_ids each customer will purchase during the 7-day period immediately after the training data period."
   ]
  },
  {
   "cell_type": "code",
   "execution_count": null,
   "metadata": {},
   "outputs": [],
   "source": [
    "# items\n",
    "items = pd.read_csv('../data/articles.csv')\n",
    "items.head()"
   ]
  },
  {
   "cell_type": "code",
   "execution_count": null,
   "metadata": {},
   "outputs": [],
   "source": [
    "for col in items.columns:\n",
    "    unique_values = items[col].unique()\n",
    "    null_percentage = items[col].isnull().sum() * 100 / len(items)\n",
    "    print(f'''Unique values in column '{col}', {len(unique_values)}, null value {null_percentage}''')\n",
    "\n",
    "# 105,542 items\n",
    "# minial missing values"
   ]
  },
  {
   "cell_type": "code",
   "execution_count": null,
   "metadata": {},
   "outputs": [],
   "source": [
    "# developing mental models for values in features and understanding what they represent\n",
    "print(items['garment_group_name'].unique())\n",
    "\n",
    "print(items[items['article_id']=='0706016001'])\n",
    "\n",
    "# feature values\n",
    "\n",
    "# article_id: Unique identifier for each article/item.\n",
    "# product_code: A code assigned to the product, possibly for internal categorization.\n",
    "\n",
    "# prod_name: The name of the product.\n",
    "# product_type_no: A numerical code for the product type.\n",
    "\n",
    "# product_type_name: The name of the product type (e.g., shirt, pants, dress).\n",
    "\n",
    "# product_group_name: The name of the broader group the product belongs to.\n",
    "\n",
    "# graphical_appearance_no: A numerical code for the product's visual appearance.\n",
    "# graphical_appearance_name: Description of the product's visual appearance (e.g., solid, patterned).\n",
    "\n",
    "# colour_group_code: A code representing the color group.\n",
    "# colour_group_name: The name of the color group (e.g., blue, red, green).\n",
    "\n",
    "# perceived_colour_value_id: An ID for the perceived color value.\n",
    "# perceived_colour_value_name: The name of the perceived color value (e.g., light, dark, bright).\n",
    "\n",
    "# perceived_colour_master_id: An ID for the master perceived color.\n",
    "# perceived_colour_master_name: The name of the master perceived color.\n",
    "\n",
    "# department_no: A numerical code for the department.\n",
    "# department_name: The name of the department (e.g., women's wear, men's wear).\n",
    "\n",
    "# index_code: A code for indexing purposes.\n",
    "# index_name: The name associated with the index code.\n",
    "\n",
    "# index_group_no: A numerical code for the index group.\n",
    "# index_group_name: The name of the index group.\n",
    "\n",
    "# section_no: A numerical code for the section.\n",
    "# section_name: The name of the section.\n",
    "\n",
    "# garment_group_no: A numerical code for the garment group.\n",
    "# garment_group_name: The name of the garment group (e.g., tops, bottoms).\n",
    "\n",
    "# detail_desc: A detailed description of the product."
   ]
  },
  {
   "cell_type": "code",
   "execution_count": null,
   "metadata": {},
   "outputs": [],
   "source": [
    "# why more numbers that names at times? - checking data quality\n",
    "items[['section_no','section_name']].drop_duplicates().sort_values(by=['section_name']).reset_index()"
   ]
  },
  {
   "cell_type": "code",
   "execution_count": null,
   "metadata": {},
   "outputs": [],
   "source": [
    "users = pd.read_csv(\"../data/customers.csv\")\n",
    "users.head()\n",
    "\n",
    "for col in users.columns:\n",
    "    unique_values = users[col].unique()\n",
    "    null_percentage = users[col].isnull().sum() * 100 / len(users)\n",
    "    print(f'''Unique values in column '{col}', {len(unique_values)}, null value {null_percentage}''')\n",
    "\n",
    "\n",
    "# 1,371,980 customers\n",
    "# quite a few missing values\n",
    "\n",
    "# customer_id: A unique alphanumeric identifier assigned to each individual customer in the H&M database to track and distinguish their interactions and purchases.\n",
    "# FN: A binary flag indicating whether the customer has opted in to receive fashion-related notifications or communications from H&M.\n",
    "# Active: A status indicator representing whether the customer has made a purchase or engaged with H&M's services within a specific recent time frame.\n",
    "# club_member_status: A categorical variable representing the customer's current membership level or participation in H&M's loyalty or rewards program.\n",
    "# fashion_news_frequency: A categorical feature describing how often the customer wishes to receive fashion-related updates, newsletters, or promotional content from H&M.\n",
    "# age: A numerical representation of the customer's age, which can be used for demographic segmentation and targeted marketing strategies.\n",
    "# postal_code: A geographical identifier representing the customer's residential or primary shipping address, useful for regional analysis and localized marketing efforts."
   ]
  },
  {
   "cell_type": "code",
   "execution_count": null,
   "metadata": {},
   "outputs": [],
   "source": [
    "interaction = pd.read_csv(\"../data/transactions_train.csv\", dtype={'article_id':str})\n",
    "interaction.head()\n",
    "\n",
    "# t_dat: The date of the transaction, likely in a standard date format.\n",
    "# customer_id: A unique identifier for the customer who made the purchase, corresponding to the customer_id in the customers.csv file.\n",
    "# article_id: A unique identifier for the purchased article, matching the article_id in the articles.csv file.\n",
    "# price: The price of the article at the time of purchase, presumably in the relevant currency.\n",
    "# sales_channel_id: An identifier representing the sales channel through which the purchase was made, possibly distinguishing between online and in-store purchases."
   ]
  },
  {
   "cell_type": "code",
   "execution_count": null,
   "metadata": {},
   "outputs": [],
   "source": [
    "print(interaction['sales_channel_id'].unique())"
   ]
  },
  {
   "cell_type": "code",
   "execution_count": null,
   "metadata": {},
   "outputs": [],
   "source": [
    "# IF YOU ARE HAVING MEMORY ISSUES - USE THIS\n",
    "# memory tricks (Ref: https://www.kaggle.com/competitions/h-and-m-personalized-fashion-recommendations/discussion/308635)\n",
    "interaction['customer_id'] = interaction['customer_id'].apply(lambda x: int(x[-16:],16) ).astype('int64')\n",
    "interaction['article_id'] = interaction['article_id'].astype('int32')\n",
    "interaction['price'] = interaction['price'].astype('float32')\n",
    "interaction['sales_channel_id'] = interaction['sales_channel_id'].astype('int8')\n",
    "interaction.head()"
   ]
  },
  {
   "cell_type": "code",
   "execution_count": 9,
   "metadata": {},
   "outputs": [],
   "source": [
    "# understand selling patterns - this can inform recommendation system\n",
    "# Example -> https://www.kaggle.com/code/vanguarde/h-m-eda-first-look\n",
    "\n",
    "# TODO: HW1\n",
    "# Some question to answer \n",
    "# - What are most popular items?\n",
    "# - What are the most popular dept? Item in dept? \n",
    "# - Are there trends in selling patterns over time?\n",
    "# - Explore other groups possible - garment_group_name, product_type_name, product_group_name"
   ]
  },
  {
   "cell_type": "code",
   "execution_count": 33,
   "metadata": {},
   "outputs": [],
   "source": [
    "# Baseline (Popularity recommender)\n",
    "# Ref: https://www.kaggle.com/code/julian3833/h-m-content-based-12-most-popular-items-0-007\n",
    "df = pd.read_csv('../data/transactions_train.csv', dtype={'article_id': str})\n",
    "df_sub = pd.read_csv('../data/sample_submission.csv')\n",
    "df_sub['prediction'] =  ' '.join(df[df['t_dat'] > '2020-09-01'].groupby('article_id')['customer_id'].count().sort_values(ascending=False).head(12).index.tolist())\n",
    "df_sub.to_csv('../preds/baseline_pred.csv', index=False)\n",
    "\n",
    "# Should get performance >0.005 MAPE"
   ]
  },
  {
   "cell_type": "code",
   "execution_count": null,
   "metadata": {},
   "outputs": [],
   "source": [
    "# Metrics => \n",
    "# Referece for code and understanding metrics:\n",
    "# https://www.kaggle.com/code/nandeshwar/mean-average-precision-map-k-metric-explained-code\n",
    "# Kaggle is a great community to for discussion like this! So get started today!\n",
    "\n",
    "def apk(actual, predicted, k=12):\n",
    "    \"\"\"\n",
    "    Computes the average precision at k.\n",
    "    This function computes the average prescision at k between two lists of\n",
    "    items.\n",
    "    Parameters\n",
    "    ----------\n",
    "    actual : list\n",
    "             A list of elements that are to be predicted (order doesn't matter)\n",
    "    predicted : list\n",
    "                A list of predicted elements (order does matter)\n",
    "    k : int, optional\n",
    "        The maximum number of predicted elements\n",
    "    Returns\n",
    "    -------\n",
    "    score : double\n",
    "            The average precision at k over the input lists\n",
    "    \"\"\"\n",
    "    if not actual:\n",
    "        return 0.0\n",
    "\n",
    "    if len(predicted)>k:\n",
    "        predicted = predicted[:k]\n",
    "\n",
    "    score = 0.0\n",
    "    num_hits = 0.0\n",
    "\n",
    "    for i,p in enumerate(predicted):\n",
    "        # first condition checks whether it is valid prediction\n",
    "        # second condition checks if prediction is not repeated\n",
    "        if p in actual and p not in predicted[:i]:\n",
    "            num_hits += 1.0\n",
    "            score += num_hits / (i+1.0)\n",
    "\n",
    "    return score / min(len(actual), k)\n",
    "\n",
    "def mapk(actual, predicted, k=12):\n",
    "    \"\"\"\n",
    "    Computes the mean average precision at k.\n",
    "    This function computes the mean average prescision at k between two lists\n",
    "    of lists of items.\n",
    "    Parameters\n",
    "    ----------\n",
    "    actual : list\n",
    "             A list of lists of elements that are to be predicted \n",
    "             (order doesn't matter in the lists)\n",
    "    predicted : list\n",
    "                A list of lists of predicted elements\n",
    "                (order matters in the lists)\n",
    "    k : int, optional\n",
    "        The maximum number of predicted elements\n",
    "    Returns\n",
    "    -------\n",
    "    score : double\n",
    "            The mean average precision at k over the input lists\n",
    "    \"\"\"\n",
    "    return np.mean([apk(a,p,k) for a,p in zip(actual, predicted)])"
   ]
  },
  {
   "cell_type": "code",
   "execution_count": null,
   "metadata": {},
   "outputs": [],
   "source": [
    "# TODO: HW2\n",
    "## create a validation set\n",
    "\n",
    "# 1. Take about last 2 weeks of interaction history\n",
    "# 2. For each user see how many items are being interacted with\n",
    "# 3. Use this as the user-item relevant set\n",
    "\n",
    "# We will cover this in the next sessions"
   ]
  },
  {
   "cell_type": "code",
   "execution_count": null,
   "metadata": {},
   "outputs": [],
   "source": [
    "# TODO: HW3\n",
    "\n",
    "# Based on the Content based Recommender theory you have heard, how can you develop a content based recommender\n",
    "# We will cover this in the next session as well!"
   ]
  }
 ],
 "metadata": {
  "kernelspec": {
   "display_name": "ads",
   "language": "python",
   "name": "python3"
  },
  "language_info": {
   "codemirror_mode": {
    "name": "ipython",
    "version": 3
   },
   "file_extension": ".py",
   "mimetype": "text/x-python",
   "name": "python",
   "nbconvert_exporter": "python",
   "pygments_lexer": "ipython3",
   "version": "3.9.19"
  }
 },
 "nbformat": 4,
 "nbformat_minor": 2
}
